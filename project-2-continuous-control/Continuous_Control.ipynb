{
 "cells": [
  {
   "cell_type": "markdown",
   "metadata": {},
   "source": [
    "# Continuous Control\n",
    "\n",
    "---\n",
    "\n",
    "In this notebook, I present my implementation with the Unity ML-Agents environment for the second project of the [Deep Reinforcement Learning Nanodegree](https://www.udacity.com/course/deep-reinforcement-learning-nanodegree--nd893) program.\n",
    "\n",
    "### 1. Start the Environment\n",
    "\n",
    "Start by importing the necessary packages.  If the code cell below returns an error, please revisit the project instructions to double-check that you have installed [Unity ML-Agents](https://github.com/Unity-Technologies/ml-agents/blob/master/docs/Installation.md) and [NumPy](http://www.numpy.org/)."
   ]
  },
  {
   "cell_type": "code",
   "execution_count": 1,
   "metadata": {},
   "outputs": [],
   "source": [
    "from unityagents import UnityEnvironment\n",
    "import numpy as np"
   ]
  },
  {
   "cell_type": "markdown",
   "metadata": {},
   "source": [
    "Next, let's load the environment:"
   ]
  },
  {
   "cell_type": "code",
   "execution_count": 2,
   "metadata": {},
   "outputs": [
    {
     "name": "stderr",
     "output_type": "stream",
     "text": [
      "INFO:unityagents:\n",
      "'Academy' started successfully!\n",
      "Unity Academy name: Academy\n",
      "        Number of Brains: 1\n",
      "        Number of External Brains : 1\n",
      "        Lesson number : 0\n",
      "        Reset Parameters :\n",
      "\t\tgoal_speed -> 1.0\n",
      "\t\tgoal_size -> 5.0\n",
      "Unity brain name: ReacherBrain\n",
      "        Number of Visual Observations (per agent): 0\n",
      "        Vector Observation space type: continuous\n",
      "        Vector Observation space size (per agent): 33\n",
      "        Number of stacked Vector Observation: 1\n",
      "        Vector Action space type: continuous\n",
      "        Vector Action space size (per agent): 4\n",
      "        Vector Action descriptions: , , , \n"
     ]
    }
   ],
   "source": [
    "env = UnityEnvironment(file_name='./twenty-agents/Reacher.exe')"
   ]
  },
  {
   "cell_type": "markdown",
   "metadata": {},
   "source": [
    "Environments contain **_brains_** which are responsible for deciding the actions of their associated agents. Here we check for the first brain available, and set it as the default brain we will be controlling from Python."
   ]
  },
  {
   "cell_type": "code",
   "execution_count": 3,
   "metadata": {},
   "outputs": [],
   "source": [
    "# get the default brain\n",
    "brain_name = env.brain_names[0]\n",
    "brain = env.brains[brain_name]"
   ]
  },
  {
   "cell_type": "markdown",
   "metadata": {},
   "source": [
    "### 2. Examine the State and Action Spaces\n",
    "\n",
    "In this environment, a double-jointed arm can move to target locations. A reward of `+0.1` is provided for each step that the agent's hand is in the goal location. Thus, the goal of your agent is to maintain its position at the target location for as many time steps as possible.\n",
    "\n",
    "The observation space consists of `33` variables corresponding to position, rotation, velocity, and angular velocities of the arm.  Each action is a vector with four numbers, corresponding to torque applicable to two joints.  Every entry in the action vector must be a number between `-1` and `1`.\n",
    "\n",
    "Run the code cell below to print some information about the environment."
   ]
  },
  {
   "cell_type": "code",
   "execution_count": 4,
   "metadata": {},
   "outputs": [
    {
     "name": "stdout",
     "output_type": "stream",
     "text": [
      "Number of agents: 20\n",
      "Size of each action: 4\n",
      "There are 20 agents. Each observes a state with length: 33\n",
      "The state for the first agent looks like: [ 0.00000000e+00 -4.00000000e+00  0.00000000e+00  1.00000000e+00\n",
      " -0.00000000e+00 -0.00000000e+00 -4.37113883e-08  0.00000000e+00\n",
      "  0.00000000e+00  0.00000000e+00  0.00000000e+00  0.00000000e+00\n",
      "  0.00000000e+00  0.00000000e+00 -1.00000000e+01  0.00000000e+00\n",
      "  1.00000000e+00 -0.00000000e+00 -0.00000000e+00 -4.37113883e-08\n",
      "  0.00000000e+00  0.00000000e+00  0.00000000e+00  0.00000000e+00\n",
      "  0.00000000e+00  0.00000000e+00  5.75471878e+00 -1.00000000e+00\n",
      "  5.55726624e+00  0.00000000e+00  1.00000000e+00  0.00000000e+00\n",
      " -1.68164849e-01]\n"
     ]
    }
   ],
   "source": [
    "# reset the environment\n",
    "env_info = env.reset(train_mode=True)[brain_name]\n",
    "\n",
    "# number of agents\n",
    "num_agents = len(env_info.agents)\n",
    "print('Number of agents:', num_agents)\n",
    "\n",
    "# size of each action\n",
    "action_size = brain.vector_action_space_size\n",
    "print('Size of each action:', action_size)\n",
    "\n",
    "# examine the state space \n",
    "states = env_info.vector_observations\n",
    "state_size = states.shape[1]\n",
    "print('There are {} agents. Each observes a state with length: {}'.format(states.shape[0], state_size))\n",
    "print('The state for the first agent looks like:', states[0])"
   ]
  },
  {
   "cell_type": "markdown",
   "metadata": {},
   "source": [
    "# PPO Implementation"
   ]
  },
  {
   "cell_type": "code",
   "execution_count": 6,
   "metadata": {},
   "outputs": [],
   "source": [
    "%reload_ext autoreload\n",
    "%autoreload 2\n",
    "%matplotlib inline"
   ]
  },
  {
   "cell_type": "code",
   "execution_count": 14,
   "metadata": {},
   "outputs": [],
   "source": [
    "import torch\n",
    "import torch.nn as nn\n",
    "import torch.nn.functional as F\n",
    "from torch.utils.data import DataLoader\n",
    "import matplotlib.pyplot as plt\n",
    "from tqdm.auto import tqdm\n",
    "from collections import namedtuple\n",
    "\n",
    "from ActorCritic import ActorCritic\n",
    "from Agent import act, calculate_gae_returns, Batcher, learn, trajectory"
   ]
  },
  {
   "cell_type": "code",
   "execution_count": 49,
   "metadata": {},
   "outputs": [],
   "source": [
    "# Hyperparmeters\n",
    "num_agents = len(env_info.agents)\n",
    "action_size = brain.vector_action_space_size\n",
    "state_size = brain.vector_observation_space_size\n",
    "\n",
    "n_episodes = 500\n",
    "max_steps = 1000\n",
    "reward_threshold = 30.\n",
    "lr = 1e-4\n",
    "batch_size = 64\n",
    "\n",
    "device = torch.device('cuda:0' if torch.cuda.is_available() else 'cpu')"
   ]
  },
  {
   "cell_type": "code",
   "execution_count": 50,
   "metadata": {},
   "outputs": [],
   "source": [
    "model = ActorCritic(state_size, action_size)\n",
    "optimizer = torch.optim.Adam(model.parameters(), lr=lr)"
   ]
  },
  {
   "cell_type": "code",
   "execution_count": 58,
   "metadata": {
    "scrolled": true
   },
   "outputs": [
    {
     "data": {
      "application/vnd.jupyter.widget-view+json": {
       "model_id": "23c4235ffb5446f9acc64199fd9eced3",
       "version_major": 2,
       "version_minor": 0
      },
      "text/plain": [
       "HBox(children=(FloatProgress(value=0.0, description='Episodes', max=500.0, style=ProgressStyle(description_wid…"
      ]
     },
     "metadata": {},
     "output_type": "display_data"
    },
    {
     "data": {
      "application/vnd.jupyter.widget-view+json": {
       "model_id": "14ff5e5f25f442adb1674d3b14a4009c",
       "version_major": 2,
       "version_minor": 0
      },
      "text/plain": [
       "HBox(children=(FloatProgress(value=0.0, description='Steps', max=1000.0, style=ProgressStyle(description_width…"
      ]
     },
     "metadata": {},
     "output_type": "display_data"
    },
    {
     "name": "stdout",
     "output_type": "stream",
     "text": [
      "Episode 0/500 | Average Score: 0.39\n",
      "Episode 5/500 | Average Score: 0.43\n",
      "Episode 10/500 | Average Score: 0.66\n",
      "Episode 15/500 | Average Score: 0.85\n",
      "Episode 20/500 | Average Score: 1.05\n",
      "Episode 25/500 | Average Score: 1.27\n",
      "Episode 30/500 | Average Score: 1.5\n",
      "Episode 35/500 | Average Score: 1.77\n",
      "Episode 40/500 | Average Score: 2.07\n",
      "Episode 45/500 | Average Score: 2.32\n",
      "Episode 50/500 | Average Score: 2.59\n",
      "Episode 55/500 | Average Score: 2.86\n",
      "Episode 60/500 | Average Score: 3.1\n",
      "Episode 65/500 | Average Score: 3.35\n",
      "Episode 70/500 | Average Score: 3.63\n",
      "Episode 75/500 | Average Score: 3.92\n",
      "Episode 80/500 | Average Score: 4.24\n",
      "Episode 85/500 | Average Score: 4.54\n",
      "Episode 90/500 | Average Score: 4.81\n",
      "Episode 95/500 | Average Score: 5.08\n",
      "Episode 100/500 | Average Score: 5.41\n",
      "Episode 105/500 | Average Score: 5.93\n",
      "Episode 110/500 | Average Score: 6.47\n",
      "Episode 115/500 | Average Score: 7.03\n",
      "Episode 120/500 | Average Score: 7.57\n",
      "Episode 125/500 | Average Score: 8.11\n",
      "Episode 130/500 | Average Score: 8.64\n",
      "Episode 135/500 | Average Score: 9.14\n",
      "Episode 140/500 | Average Score: 9.62\n",
      "Episode 145/500 | Average Score: 10.14\n",
      "Episode 150/500 | Average Score: 10.62\n",
      "Episode 155/500 | Average Score: 11.11\n",
      "Episode 160/500 | Average Score: 11.61\n",
      "Episode 165/500 | Average Score: 12.09\n",
      "Episode 170/500 | Average Score: 12.53\n",
      "Episode 175/500 | Average Score: 12.93\n",
      "Episode 180/500 | Average Score: 13.33\n",
      "Episode 185/500 | Average Score: 13.74\n",
      "Episode 190/500 | Average Score: 14.13\n",
      "Episode 195/500 | Average Score: 14.51\n",
      "Episode 200/500 | Average Score: 14.82\n",
      "Episode 205/500 | Average Score: 15.23\n",
      "Episode 210/500 | Average Score: 15.62\n",
      "Episode 215/500 | Average Score: 15.95\n",
      "Episode 220/500 | Average Score: 16.36\n",
      "Episode 225/500 | Average Score: 16.75\n",
      "Episode 230/500 | Average Score: 17.15\n",
      "Episode 235/500 | Average Score: 17.55\n",
      "Episode 240/500 | Average Score: 17.97\n",
      "Episode 245/500 | Average Score: 18.35\n",
      "Episode 250/500 | Average Score: 18.74\n",
      "Episode 255/500 | Average Score: 19.1\n",
      "Episode 260/500 | Average Score: 19.46\n",
      "Episode 265/500 | Average Score: 19.78\n",
      "Episode 270/500 | Average Score: 20.16\n",
      "Episode 275/500 | Average Score: 20.61\n",
      "Episode 280/500 | Average Score: 20.99\n",
      "Episode 285/500 | Average Score: 21.35\n",
      "Episode 290/500 | Average Score: 21.71\n",
      "Episode 295/500 | Average Score: 22.12\n",
      "Episode 300/500 | Average Score: 22.64\n",
      "Episode 305/500 | Average Score: 23.04\n",
      "Episode 310/500 | Average Score: 23.44\n",
      "Episode 315/500 | Average Score: 23.87\n",
      "Episode 320/500 | Average Score: 24.21\n",
      "Episode 325/500 | Average Score: 24.58\n",
      "Episode 330/500 | Average Score: 24.94\n",
      "Episode 335/500 | Average Score: 25.32\n",
      "Episode 340/500 | Average Score: 25.7\n",
      "Episode 345/500 | Average Score: 26.02\n",
      "Episode 350/500 | Average Score: 26.4\n",
      "Episode 355/500 | Average Score: 26.8\n",
      "Episode 360/500 | Average Score: 27.16\n",
      "Episode 365/500 | Average Score: 27.51\n",
      "Episode 370/500 | Average Score: 27.88\n",
      "Episode 375/500 | Average Score: 28.17\n",
      "Episode 380/500 | Average Score: 28.49\n",
      "Episode 385/500 | Average Score: 28.79\n",
      "Episode 390/500 | Average Score: 29.12\n",
      "Episode 395/500 | Average Score: 29.44\n",
      "Episode 400/500 | Average Score: 29.73\n",
      "Episode 405/500 | Average Score: 30.03\n",
      "Environment solved in 405!\n",
      "\n"
     ]
    }
   ],
   "source": [
    "total_scores = []\n",
    "\n",
    "episodes_bar = tqdm(total=n_episodes, desc='Episodes')\n",
    "step_bar = tqdm(total=max_steps, desc='Steps', leave=False)\n",
    "for i_episode in range(n_episodes):\n",
    "   # Reset environment and get initial state\n",
    "   env_info = env.reset(train_mode=True)[brain_name]\n",
    "   state = env_info.vector_observations\n",
    "   done = env_info.local_done\n",
    "   \n",
    "   episode_score = 0.\n",
    "   trajectories = []\n",
    "   while not any(done):\n",
    "      # Collect trajectories from current episode\n",
    "      next_state, done, t = act(env, model, state)\n",
    "      trajectories.append(t)\n",
    "      episode_score += t.reward.mean()\n",
    "      state = next_state\n",
    "      \n",
    "      step_bar.update(1)\n",
    "   step_bar.reset()\n",
    "\n",
    "   # Keep track of total rewards score\n",
    "   total_scores.append(episode_score)\n",
    "   \n",
    "   # Get final value from terminal state\n",
    "   next_value, _ = model(torch.FloatTensor(state))\n",
    "   next_value = next_value.detach().cpu().numpy()\n",
    "   terminal_trajectory = trajectory(state, None, None, None, None, next_value)\n",
    "   trajectories.append(terminal_trajectory)\n",
    "\n",
    "   # Calculate advantages via Generalized Advanage Estimation\n",
    "   processed_trajectories = calculate_gae_returns(trajectories, next_value, num_agents=num_agents)\n",
    "   states, actions, old_log_probs, returns, advantages = map(torch.FloatTensor, zip(*processed_trajectories))\n",
    "\n",
    "   # Normalize advantages\n",
    "   advantages = (advantages - advantages.mean())  / (advantages.std() + 1e-7)\n",
    "   \n",
    "   # Get random batches from accumulated trajectories\n",
    "   batcher = DataLoader(\n",
    "      Batcher(states, actions, old_log_probs, returns, advantages),\n",
    "      batch_size=batch_size,\n",
    "      shuffle=True\n",
    "   )\n",
    "\n",
    "   # Train actor-critic model\n",
    "   model.train()\n",
    "   learn(model, optimizer, batcher, epsilon_clip, beta, gradient_clip)\n",
    "   \n",
    "   # Calculate average score and print stats\n",
    "   average_score = np.mean(total_scores[-100:])\n",
    "   if i_episode % 5 == 0:\n",
    "      print(f'Episode {i_episode}/{n_episodes} | Average Score: {round(average_score, 2)}')\n",
    "   if average_score >= reward_threshold:\n",
    "      print(f'Environment solved in {i_episode}!')\n",
    "      torch.save(model.state_dict(), 'checkpoint.pth')\n",
    "      break\n",
    "      \n",
    "   episodes_bar.update(1)\n",
    "step_bar.close()\n",
    "episodes_bar.close()"
   ]
  },
  {
   "cell_type": "code",
   "execution_count": 59,
   "metadata": {},
   "outputs": [
    {
     "data": {
      "image/png": "[encoded data removed]",
      "text/plain": [
       "<Figure size 720x576 with 1 Axes>"
      ]
     },
     "metadata": {
      "needs_background": "light"
     },
     "output_type": "display_data"
    }
   ],
   "source": [
    "plt.figure(figsize=(10, 8))\n",
    "plt.plot(total_scores)\n",
    "plt.xlabel('Episode')\n",
    "plt.ylabel('Score')\n",
    "plt.show()"
   ]
  },
  {
   "cell_type": "markdown",
   "metadata": {},
   "source": [
    "# Test Agent"
   ]
  },
  {
   "cell_type": "code",
   "execution_count": null,
   "metadata": {},
   "outputs": [],
   "source": [
    "model = ActorCritic(state_size, action_size)\n",
    "torch.load_state_dict(torch.load('checkpoint.pth'))\n",
    "model.eval()"
   ]
  },
  {
   "cell_type": "code",
   "execution_count": 63,
   "metadata": {},
   "outputs": [
    {
     "name": "stdout",
     "output_type": "stream",
     "text": [
      "Total score (averaged over agents) this episode: 32.88399926498537\n"
     ]
    }
   ],
   "source": [
    "total_scores = []\n",
    "\n",
    "env_info = env.reset(train_mode=False)[brain_name]\n",
    "states = env_info.vector_observations\n",
    "done = env_info.local_done\n",
    "\n",
    "episode_score = 0.\n",
    "while not any(done):\n",
    "   # Get optimal action\n",
    "   _, dist = model(torch.FloatTensor(state))\n",
    "   action = dist.sample().detach().cpu().numpy()\n",
    "   \n",
    "   # Take step\n",
    "   env_info = env.step(action)[brain_name]\n",
    "   next_state = env_info.vector_observations\n",
    "   rewards = env_info.rewards\n",
    "   done = env_info.local_done\n",
    "   episode_score += np.mean(rewards)\n",
    "   \n",
    "   state = next_state\n",
    "\n",
    "print('Total score (averaged over agents) this episode: {}'.format(episode_score))"
   ]
  },
  {
   "cell_type": "markdown",
   "metadata": {},
   "source": [
    "# Close environment"
   ]
  },
  {
   "cell_type": "code",
   "execution_count": 64,
   "metadata": {},
   "outputs": [],
   "source": [
    "env.close()"
   ]
  }
 ],
 "metadata": {
  "kernelspec": {
   "display_name": "Python 3",
   "language": "python",
   "name": "python3"
  },
  "language_info": {
   "codemirror_mode": {
    "name": "ipython",
    "version": 3
   },
   "file_extension": ".py",
   "mimetype": "text/x-python",
   "name": "python",
   "nbconvert_exporter": "python",
   "pygments_lexer": "ipython3",
   "version": "3.6.10"
  }
 },
 "nbformat": 4,
 "nbformat_minor": 2
}
