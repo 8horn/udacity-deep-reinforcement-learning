{
 "cells": [
  {
   "cell_type": "markdown",
   "metadata": {},
   "source": [
    "# Collaboration and Competition\n",
    "\n",
    "---\n",
    "\n",
    "In this notebook, you will learn how to use the Unity ML-Agents environment for the third project of the [Deep Reinforcement Learning Nanodegree](https://www.udacity.com/course/deep-reinforcement-learning-nanodegree--nd893) program."
   ]
  },
  {
   "cell_type": "code",
   "execution_count": 1,
   "metadata": {},
   "outputs": [],
   "source": [
    "from unityagents import UnityEnvironment\n",
    "import numpy as np"
   ]
  },
  {
   "cell_type": "markdown",
   "metadata": {},
   "source": [
    "Next, we will start the environment! Please ensure the ```file_name``` points to the ```Tennis.exe``` application on your machine."
   ]
  },
  {
   "cell_type": "code",
   "execution_count": 2,
   "metadata": {},
   "outputs": [
    {
     "name": "stderr",
     "output_type": "stream",
     "text": [
      "INFO:unityagents:\n",
      "'Academy' started successfully!\n",
      "Unity Academy name: Academy\n",
      "        Number of Brains: 1\n",
      "        Number of External Brains : 1\n",
      "        Lesson number : 0\n",
      "        Reset Parameters :\n",
      "\t\t\n",
      "Unity brain name: TennisBrain\n",
      "        Number of Visual Observations (per agent): 0\n",
      "        Vector Observation space type: continuous\n",
      "        Vector Observation space size (per agent): 8\n",
      "        Number of stacked Vector Observation: 3\n",
      "        Vector Action space type: continuous\n",
      "        Vector Action space size (per agent): 2\n",
      "        Vector Action descriptions: , \n"
     ]
    }
   ],
   "source": [
    "env = UnityEnvironment(file_name=\"./../tennis-windows/Tennis.exe\")"
   ]
  },
  {
   "cell_type": "markdown",
   "metadata": {},
   "source": [
    "Environments contain **_brains_** which are responsible for deciding the actions of their associated agents. Here we check for the first brain available, and set it as the default brain we will be controlling from Python."
   ]
  },
  {
   "cell_type": "code",
   "execution_count": 3,
   "metadata": {},
   "outputs": [],
   "source": [
    "# get the default brain\n",
    "brain_name = env.brain_names[0]\n",
    "brain = env.brains[brain_name]"
   ]
  },
  {
   "cell_type": "markdown",
   "metadata": {},
   "source": [
    "### Examine the State and Action Spaces\n",
    "\n",
    "In this environment, two agents control rackets to bounce a ball over a net. If an agent hits the ball over the net, it receives a reward of +0.1.  If an agent lets a ball hit the ground or hits the ball out of bounds, it receives a reward of -0.01.  Thus, the goal of each agent is to keep the ball in play.\n",
    "\n",
    "The observation space consists of 8 variables corresponding to the position and velocity of the ball and racket. Two continuous actions are available, corresponding to movement toward (or away from) the net, and jumping. \n",
    "\n",
    "Run the code cell below to print some information about the environment."
   ]
  },
  {
   "cell_type": "code",
   "execution_count": 4,
   "metadata": {},
   "outputs": [
    {
     "name": "stdout",
     "output_type": "stream",
     "text": [
      "Number of agents: 2\n",
      "Size of each action: 2\n",
      "There are 2 agents. Each observes a state with length: 24\n",
      "The state for the first agent looks like: [ 0.          0.          0.          0.          0.          0.\n",
      "  0.          0.          0.          0.          0.          0.\n",
      "  0.          0.          0.          0.         -6.65278625 -1.5\n",
      " -0.          0.          6.83172083  6.         -0.          0.        ]\n"
     ]
    }
   ],
   "source": [
    "# reset the environment\n",
    "env_info = env.reset(train_mode=True)[brain_name]\n",
    "\n",
    "# number of agents \n",
    "num_agents = len(env_info.agents)\n",
    "print('Number of agents:', num_agents)\n",
    "\n",
    "# size of each action\n",
    "action_size = brain.vector_action_space_size\n",
    "print('Size of each action:', action_size)\n",
    "\n",
    "# examine the state space \n",
    "states = env_info.vector_observations\n",
    "state_size = states.shape[1]\n",
    "print('There are {} agents. Each observes a state with length: {}'.format(states.shape[0], state_size))\n",
    "print('The state for the first agent looks like:', states[0])"
   ]
  },
  {
   "cell_type": "markdown",
   "metadata": {},
   "source": [
    "### Multi-Agent PPO"
   ]
  },
  {
   "cell_type": "code",
   "execution_count": 5,
   "metadata": {},
   "outputs": [],
   "source": [
    "%reload_ext autoreload\n",
    "%autoreload 2\n",
    "%matplotlib inline"
   ]
  },
  {
   "cell_type": "code",
   "execution_count": 6,
   "metadata": {},
   "outputs": [],
   "source": [
    "from MultiAgent import MultiAgent\n",
    "\n",
    "from tqdm.auto import tqdm\n",
    "import matplotlib.pyplot as plt"
   ]
  },
  {
   "cell_type": "code",
   "execution_count": 7,
   "metadata": {},
   "outputs": [],
   "source": [
    "n_episodes = 10000\n",
    "reward_threshold = 0.5\n",
    "update_every = 20\n",
    "\n",
    "ma = MultiAgent(state_size, action_size, num_agents, hidden_size=200)"
   ]
  },
  {
   "cell_type": "code",
   "execution_count": 8,
   "metadata": {
    "scrolled": true
   },
   "outputs": [
    {
     "data": {
      "application/vnd.jupyter.widget-view+json": {
       "model_id": "a835dbb9deb846668ebc4b6e27313cf8",
       "version_major": 2,
       "version_minor": 0
      },
      "text/plain": [
       "HBox(children=(FloatProgress(value=0.0, description='Episodes', max=10000.0, style=ProgressStyle(description_w…"
      ]
     },
     "metadata": {},
     "output_type": "display_data"
    },
    {
     "name": "stdout",
     "output_type": "stream",
     "text": [
      "Episode 0/10000 | Average Score: 0.0\n",
      "Episode 100/10000 | Average Score: 0.02\n",
      "Episode 200/10000 | Average Score: 0.01\n",
      "Episode 300/10000 | Average Score: 0.02\n",
      "Episode 400/10000 | Average Score: 0.01\n",
      "Episode 500/10000 | Average Score: 0.03\n",
      "Episode 600/10000 | Average Score: 0.02\n",
      "Episode 700/10000 | Average Score: 0.03\n",
      "Episode 800/10000 | Average Score: 0.04\n",
      "Episode 900/10000 | Average Score: 0.05\n",
      "Episode 1000/10000 | Average Score: 0.03\n",
      "Episode 1100/10000 | Average Score: 0.04\n",
      "Episode 1200/10000 | Average Score: 0.05\n",
      "Episode 1300/10000 | Average Score: 0.05\n",
      "Episode 1400/10000 | Average Score: 0.06\n",
      "Episode 1500/10000 | Average Score: 0.04\n",
      "Episode 1600/10000 | Average Score: 0.05\n",
      "Episode 1700/10000 | Average Score: 0.06\n",
      "Episode 1800/10000 | Average Score: 0.07\n",
      "Episode 1900/10000 | Average Score: 0.07\n",
      "Episode 2000/10000 | Average Score: 0.06\n",
      "Episode 2100/10000 | Average Score: 0.07\n",
      "Episode 2200/10000 | Average Score: 0.08\n",
      "Episode 2300/10000 | Average Score: 0.08\n",
      "Episode 2400/10000 | Average Score: 0.07\n",
      "Episode 2500/10000 | Average Score: 0.08\n",
      "Episode 2600/10000 | Average Score: 0.07\n",
      "Episode 2700/10000 | Average Score: 0.09\n",
      "Episode 2800/10000 | Average Score: 0.09\n",
      "Episode 2900/10000 | Average Score: 0.09\n",
      "Episode 3000/10000 | Average Score: 0.09\n",
      "Episode 3100/10000 | Average Score: 0.09\n",
      "Episode 3200/10000 | Average Score: 0.09\n",
      "Episode 3300/10000 | Average Score: 0.09\n",
      "Episode 3400/10000 | Average Score: 0.09\n",
      "Episode 3500/10000 | Average Score: 0.1\n",
      "Episode 3600/10000 | Average Score: 0.1\n",
      "Episode 3700/10000 | Average Score: 0.09\n",
      "Episode 3800/10000 | Average Score: 0.1\n",
      "Episode 3900/10000 | Average Score: 0.1\n",
      "Episode 4000/10000 | Average Score: 0.1\n",
      "Episode 4100/10000 | Average Score: 0.1\n",
      "Episode 4200/10000 | Average Score: 0.11\n",
      "Episode 4300/10000 | Average Score: 0.12\n",
      "Episode 4400/10000 | Average Score: 0.12\n",
      "Episode 4500/10000 | Average Score: 0.1\n",
      "Episode 4600/10000 | Average Score: 0.11\n",
      "Episode 4700/10000 | Average Score: 0.11\n",
      "Episode 4800/10000 | Average Score: 0.12\n",
      "Episode 4900/10000 | Average Score: 0.13\n",
      "Episode 5000/10000 | Average Score: 0.13\n",
      "Episode 5100/10000 | Average Score: 0.14\n",
      "Episode 5200/10000 | Average Score: 0.14\n",
      "Episode 5300/10000 | Average Score: 0.13\n",
      "Episode 5400/10000 | Average Score: 0.13\n",
      "Episode 5500/10000 | Average Score: 0.13\n",
      "Episode 5600/10000 | Average Score: 0.13\n",
      "Episode 5700/10000 | Average Score: 0.17\n",
      "Episode 5800/10000 | Average Score: 0.19\n",
      "Episode 5900/10000 | Average Score: 0.17\n",
      "Episode 6000/10000 | Average Score: 0.2\n",
      "Episode 6100/10000 | Average Score: 0.18\n",
      "Episode 6200/10000 | Average Score: 0.19\n",
      "Episode 6300/10000 | Average Score: 0.26\n",
      "Episode 6400/10000 | Average Score: 0.37\n",
      "Episode 6500/10000 | Average Score: 0.39\n",
      "Episode 6600/10000 | Average Score: 0.4\n",
      "Episode 6700/10000 | Average Score: 0.24\n",
      "Episode 6800/10000 | Average Score: 0.46\n",
      "Episode 6900/10000 | Average Score: 0.12\n",
      "Episode 7000/10000 | Average Score: 0.1\n",
      "Episode 7100/10000 | Average Score: 0.08\n",
      "Episode 7200/10000 | Average Score: 0.14\n",
      "Episode 7300/10000 | Average Score: 0.21\n",
      "Episode 7400/10000 | Average Score: 0.17\n",
      "Episode 7500/10000 | Average Score: 0.31\n",
      "Episode 7600/10000 | Average Score: 0.47\n",
      "Environment solved in 7604!\n",
      "\n"
     ]
    }
   ],
   "source": [
    "total_score = []\n",
    "\n",
    "episodes_bar = tqdm(total=n_episodes, desc='Episodes')\n",
    "for i_episode in range(n_episodes):\n",
    "   # Reset environment and get initial state\n",
    "   env_info = env.reset(train_mode=True)[brain_name]\n",
    "   states = env_info.vector_observations\n",
    "   dones = env_info.local_done\n",
    "   scores = np.zeros(num_agents)\n",
    "   \n",
    "   while not any(dones):\n",
    "      # Choose actions based on policy\n",
    "      actions, log_probs, values = ma.act(states)\n",
    "      \n",
    "      # Take the chosen action and register environment reaction\n",
    "      env_info = env.step(np.clip(actions, -1, 1))[brain_name]\n",
    "      next_states = env_info.vector_observations\n",
    "      dones = env_info.local_done\n",
    "      rewards = env_info.rewards\n",
    "      \n",
    "      # Register the environment response\n",
    "      ma.step(states, actions, rewards, dones, log_probs, values)\n",
    "      \n",
    "      # Update state and keep track of total scores per episode\n",
    "      scores += rewards\n",
    "      states = next_states\n",
    "\n",
    "   # Keep track of scores collected per episode\n",
    "   total_score.append(max(scores))\n",
    "   \n",
    "   # Get final value from terminal state\n",
    "   _, _, terminal_values = ma.act(states)\n",
    "   ma.step(states, None, None, None, None, terminal_values, is_terminal=True)\n",
    "\n",
    "   # Calculate advantages via Generalized Advantage Estimation\n",
    "   ma.process_trajectories(gamma=0.99, gae_tau=0.95)\n",
    "   \n",
    "   # learn policy from collected trajectories, but only if enough experiences were collected\n",
    "   ma.maybe_learn(i_episode+1, update_every=update_every)\n",
    "      \n",
    "   # Calculate average score and print stats\n",
    "   average_score = np.mean(total_score[-100:])\n",
    "   if i_episode % 100 == 0:\n",
    "      print(f'Episode {i_episode}/{n_episodes} | Average Score: {round(average_score, 2)}')\n",
    "   if average_score >= reward_threshold:\n",
    "      print(f'Environment solved in {i_episode}!')\n",
    "      ma.save_checkpoint()\n",
    "      break\n",
    "      \n",
    "   episodes_bar.update(1)\n",
    "episodes_bar.close()"
   ]
  },
  {
   "cell_type": "code",
   "execution_count": 9,
   "metadata": {},
   "outputs": [
    {
     "data": {
      "image/png": "[encoded data removed]",
      "text/plain": [
       "<Figure size 720x576 with 1 Axes>"
      ]
     },
     "metadata": {
      "needs_background": "light"
     },
     "output_type": "display_data"
    }
   ],
   "source": [
    "plt.figure(figsize=(10, 8))\n",
    "plt.plot(total_score, label='PPO')\n",
    "plt.xlabel('Episode')\n",
    "plt.ylabel('Score')\n",
    "plt.show()"
   ]
  },
  {
   "cell_type": "markdown",
   "metadata": {},
   "source": [
    "# Test Agent"
   ]
  },
  {
   "cell_type": "code",
   "execution_count": null,
   "metadata": {},
   "outputs": [],
   "source": [
    "ma = MultiAgent(state_size, action_size, num_agents, hidden_size=200)\n",
    "ma.load_checkpoint('./checkpoint.pth')"
   ]
  },
  {
   "cell_type": "code",
   "execution_count": 16,
   "metadata": {},
   "outputs": [
    {
     "name": "stdout",
     "output_type": "stream",
     "text": [
      "Total score for this game is: 1.5000000223517418\n"
     ]
    }
   ],
   "source": [
    "env_info = env.reset(train_mode=False)[brain_name]\n",
    "states = env_info.vector_observations\n",
    "dones = env_info.local_done\n",
    "scores = np.zeros(num_agents)\n",
    "\n",
    "n_steps = 100\n",
    "t_step = 0\n",
    "while (not any(dones)) or (t_step < n_steps):\n",
    "   # Get optimal action\n",
    "   actions, _, _ = ma.act(states)\n",
    "   \n",
    "   # Take the chosen action and register environment reaction\n",
    "   env_info = env.step(np.clip(actions, -1, 1))[brain_name]\n",
    "   next_states = env_info.vector_observations\n",
    "   dones = env_info.local_done\n",
    "   rewards = env_info.rewards\n",
    "   \n",
    "   # Update state and keep track of total scores per episode\n",
    "   scores += rewards\n",
    "   states = next_states\n",
    "\n",
    "   t_step += 1\n",
    "\n",
    "print('Total score for this game is: {}'.format(max(scores)))"
   ]
  },
  {
   "cell_type": "markdown",
   "metadata": {},
   "source": [
    "# Close Environment"
   ]
  },
  {
   "cell_type": "code",
   "execution_count": 17,
   "metadata": {},
   "outputs": [],
   "source": [
    "env.close()"
   ]
  }
 ],
 "metadata": {
  "kernelspec": {
   "display_name": "Python 3",
   "language": "python",
   "name": "python3"
  },
  "language_info": {
   "codemirror_mode": {
    "name": "ipython",
    "version": 3
   },
   "file_extension": ".py",
   "mimetype": "text/x-python",
   "name": "python",
   "nbconvert_exporter": "python",
   "pygments_lexer": "ipython3",
   "version": "3.6.10"
  }
 },
 "nbformat": 4,
 "nbformat_minor": 2
}
